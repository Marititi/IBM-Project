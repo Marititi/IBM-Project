{
 "cells": [
  {
   "cell_type": "markdown",
   "metadata": {},
   "source": [
    "# Business Problem"
   ]
  },
  {
   "cell_type": "markdown",
   "metadata": {},
   "source": [
    "Nowadays it's common that people migrate from it's native region, either inside or outside their country, with various motives like studying abroad, work related, certain benefits associated with an area, \"living the dream\", long holidays or mere pleasure. The process of selecting the appropriate place to live is tedious and sometimes taken leaving aside many characteristics of a place.\n",
    "\n",
    "To facilitate the process of decision making related to choosing a new place to live, a model will be developed. The model will be implemented specifically for person who wants to move to London (very bounded, yes), considering important part of the resident population (up to 50% approximately for some boroughs) was born abroad.\n",
    "\n",
    "The model can considered as a prototype for a generalized model for people who wants to move to other parts of the world (not just London), needing for that a proper database, which is a fundamental limitation. It must be noted that the model would need some changes in case it needs to be generalized, specifically in the way the data is read from the external database and somehow automate the cluster analysis or let the user figure the clusters, which is harder. \n"
   ]
  },
  {
   "cell_type": "markdown",
   "metadata": {},
   "source": [
    "# Data"
   ]
  },
  {
   "cell_type": "markdown",
   "metadata": {},
   "source": [
    "The model considers economic, demographic and certain miscellaneous but meaningful aspects. Foursquare will play a complementary role by displaying the data of venues of interest for a person.\n",
    "\n",
    "1. The data to be used is based on economic and demographic (and miscellaneous) data from each borough of London, obtaining the data from London Borough Profiles, provided by Greater London Authority (see: https://data.london.gov.uk/dataset/london-borough-profiles), offering a complete dataset for London on an Excel file. Depending on the data, it's updated to year 2011 being the most recent data from year 2017, and they are based on different sources like GLA, ONS, 2011 Census and other England organizations. The dataset has much more data that the one required, for example:\n",
    "    \n",
    " - Average Public Transport Accessibility score, 2014\n",
    " - Male life expectancy, (2012-14)\n",
    " - Anxiety score 2011-14 (out of 10)\n",
    " - Crime rates per thousand population 2014/15\n",
    " - Jobs Density, 2015\n",
    " - Median House Price, 2015\n",
    "    \n",
    "2. The other part of the data is directly obtained from Foursquare API based on the different locations. The data of interest are the venues around each location which can characterize a place and must match the user preferences. Foursquare, as you may (should) know is able to show the data about venues located around certain point on the world map. This allows, for example, to calculate the frequency of certain type of venues within a range (radius) of a location, and characterize a location given the most common venues."
   ]
  }
 ],
 "metadata": {
  "kernelspec": {
   "display_name": "Python",
   "language": "python",
   "name": "conda-env-python-py"
  },
  "language_info": {
   "codemirror_mode": {
    "name": "ipython",
    "version": 3
   },
   "file_extension": ".py",
   "mimetype": "text/x-python",
   "name": "python",
   "nbconvert_exporter": "python",
   "pygments_lexer": "ipython3",
   "version": "3.6.7"
  }
 },
 "nbformat": 4,
 "nbformat_minor": 4
}
